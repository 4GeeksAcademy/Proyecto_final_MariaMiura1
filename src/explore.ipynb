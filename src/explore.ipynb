{
    "cells": [
        {
            "cell_type": "markdown",
            "metadata": {},
            "source": [
                "# Explore here"
            ]
        },
        {
            "cell_type": "code",
            "execution_count": 2,
            "metadata": {},
            "outputs": [],
            "source": [
                "import pandas as pd"
            ]
        },
        {
            "cell_type": "markdown",
            "metadata": {},
            "source": [
                "Definición de datos iniciales\n",
                "Gobierno Central:\n",
                "Creas un DataFrame con 3 filas que representan el partido en el gobierno central para tres periodos largos (2013-2015, 2015-2019, 2019-2023).\n",
                "\n",
                "Comunidades Autónomas:\n",
                "Creamos un diccionario con comunidades y sus partidos en esos mismos tres periodos. Lo hemos transformado en un DataFrame con una fila por comunidad y periodo.\n",
                "\n",
                "Capitales de Provincia:\n",
                "Similar al anterior, con un diccionario de ciudades y partidos, también convertido a DataFrame.\n",
                "\n"
            ]
        },
        {
            "cell_type": "code",
            "execution_count": 8,
            "metadata": {},
            "outputs": [
                {
                    "name": "stdout",
                    "output_type": "stream",
                    "text": [
                        "✅ Archivo CSV creado: 'gobiernos_españa_2013_2023.csv'\n"
                    ]
                }
            ],
            "source": [
                "import pandas as pd\n",
                "\n",
                "# Gobierno Central\n",
                "gov_central = pd.DataFrame({\n",
                "    'Periodo': ['2013–2015', '2015–2019', '2019–2023'],\n",
                "    'Nivel': ['Gobierno Central'] * 3,\n",
                "    'Entidad': ['España'] * 3,\n",
                "    'Partido': ['PP', 'PP', 'PSOE-Unidas Podemos (coalición)']\n",
                "})\n",
                "\n",
                "# Comunidades Autónomas\n",
                "autonomous_gov = {\n",
                "    'Andalucía': ['PSOE', 'PSOE', 'PSOE'],\n",
                "    'Aragón': ['PSOE', 'PSOE', 'PSOE'],\n",
                "    'Asturias': ['PSOE', 'PSOE', 'PSOE'],\n",
                "    'Islas Baleares': ['PSOE', 'PSOE', 'PSOE'],\n",
                "    'Canarias': ['CC', 'CC', 'PSOE'],\n",
                "    'Cantabria': ['PRC', 'PRC', 'PRC'],\n",
                "    'Castilla-La Mancha': ['PSOE', 'PSOE', 'PSOE'],\n",
                "    'Castilla y León': ['PP', 'PP', 'PP'],\n",
                "    'Cataluña': ['CiU', 'Junts / ERC', 'ERC'],\n",
                "    'Comunidad Valenciana': ['PSPV-PSOE', 'PSPV-PSOE', 'PSPV-PSOE'],\n",
                "    'Extremadura': ['PSOE', 'PSOE', 'PSOE'],\n",
                "    'Galicia': ['PP', 'PP', 'PP'],\n",
                "    'Madrid': ['PP', 'PP', 'PP'],\n",
                "    'Murcia': ['PP', 'PP', 'PP'],\n",
                "    'Navarra': ['PSN-PSOE', 'PSN-PSOE', 'PSN-PSOE'],\n",
                "    'País Vasco': ['PNV', 'PNV', 'PNV'],\n",
                "    'La Rioja': ['PP', 'PP', 'PSOE / PP'],\n",
                "    'Ceuta': ['PP', 'PP', 'PP'],\n",
                "    'Melilla': ['PP', 'PP', 'PP']\n",
                "}\n",
                "autonomous_df = pd.DataFrame([\n",
                "    {'Periodo': periodo, 'Nivel': 'Comunidad Autónoma', 'Entidad': comunidad, 'Partido': partido}\n",
                "    for comunidad, partidos in autonomous_gov.items()\n",
                "    for periodo, partido in zip(['2013–2015', '2015–2019', '2019–2023'], partidos)\n",
                "])\n",
                "\n",
                "# Capitales de Provincia\n",
                "provincial_gov = {\n",
                "    'Álava': ['PNV', 'PNV', 'PNV'],\n",
                "    'Albacete': ['PP', 'PSOE', 'PSOE'],\n",
                "    'Alicante': ['PP', 'PP', 'PP'],\n",
                "    'Almería': ['PP', 'PP', 'PP'],\n",
                "    'Oviedo': ['PSOE', 'PSOE', 'PSOE'],\n",
                "    'Ávila': ['PP', 'PP', 'PP'],\n",
                "    'Badajoz': ['PP', 'PP', 'PP'],\n",
                "    'Barcelona': ['CiU', 'Barcelona en Comú', 'Barcelona en Comú / PSC'],\n",
                "    'Burgos': ['PP', 'PP', 'PP'],\n",
                "    'Cáceres': ['PP', 'PP / PSOE', 'PSOE'],\n",
                "    'Cádiz': ['PP', 'Por Cádiz Sí Se Puede', 'PSOE'],\n",
                "    'Santander': ['PSOE', 'PSOE', 'PSOE'],\n",
                "    'Castellón': ['PP', 'PP', 'PP'],\n",
                "    'Ciudad Real': ['PP', 'PSOE', 'PSOE'],\n",
                "    'Córdoba': ['PSOE', 'PSOE', 'PSOE'],\n",
                "    'Cuenca': ['PSOE', 'PSOE', 'PSOE'],\n",
                "    'Girona': ['CiU', 'ERC', 'ERC'],\n",
                "    'Granada': ['PP', 'PP / PSOE', 'PSOE'],\n",
                "    'Guadalajara': ['PP', 'PP / PSOE', 'PSOE'],\n",
                "    'Huelva': ['PP', 'PSOE', 'PSOE'],\n",
                "    'Huesca': ['PP', 'PP / PSOE', 'PSOE'],\n",
                "    'Jaén': ['PP', 'PSOE', 'PSOE'],\n",
                "    'Logroño': ['PP', 'PP', 'PSOE / PP'],\n",
                "    'Las Palmas': ['PSOE', 'PSOE', 'PSOE'],\n",
                "    'León': ['PSOE', 'PSOE', 'PSOE'],\n",
                "    'Lleida': ['PSC', 'ERC', 'ERC'],\n",
                "    'Lugo': ['PP', 'PSOE', 'PSOE'],\n",
                "    'Madrid': ['PP', 'Ahora Madrid / Más Madrid', 'Más Madrid / PP'],\n",
                "    'Málaga': ['PP', 'PP', 'PP'],\n",
                "    'Melilla': ['PP', 'PP', 'PP'],\n",
                "    'Murcia': ['PP', 'PP', 'PP'],\n",
                "    'Pamplona': ['UPN', 'UPN', 'Navarra Suma'],\n",
                "    'Ourense': ['DO', 'DO', 'DO'],\n",
                "    'Palencia': ['PP', 'PP / PSOE', 'PSOE'],\n",
                "    'Palma de Mallorca': ['PP', 'PP / PSOE', 'PSOE'],\n",
                "    'Pontevedra': ['PP', 'BNG', 'BNG'],\n",
                "    'Salamanca': ['PP', 'PP', 'PP'],\n",
                "    'Santa Cruz de Tenerife': ['CC', 'CC', 'CC'],\n",
                "    'Segovia': ['PP', 'PP / PSOE', 'PSOE'],\n",
                "    'Sevilla': ['PP', 'PSOE', 'PSOE'],\n",
                "    'Soria': ['PSOE', 'PSOE', 'PSOE'],\n",
                "    'Tarragona': ['PP', 'PSOE / ERC', 'ERC'],\n",
                "    'Teruel': ['PP', 'PP', 'PP'],\n",
                "    'Toledo': ['PP', 'PSOE', 'PSOE'],\n",
                "    'Valencia': ['PP', 'PP', 'Compromís'],\n",
                "    'Valladolid': ['PP', 'PSOE', 'PSOE'],\n",
                "    'Bilbao': ['PNV', 'PNV', 'PNV'],\n",
                "    'Zamora': ['IU', 'IU', 'IU'],\n",
                "    'Zaragoza': ['PP', 'PP / PSOE', 'PSOE / PP']\n",
                "}\n",
                "province_df = pd.DataFrame([\n",
                "    {'Periodo': periodo, 'Nivel': 'Capital de Provincia', 'Entidad': ciudad, 'Partido': partido}\n",
                "    for ciudad, partidos in provincial_gov.items()\n",
                "    for periodo, partido in zip(['2013–2015', '2015–2019', '2019–2023'], partidos)\n",
                "])\n",
                "\n",
                "# Unir todo y guardar CSV\n",
                "final_df = pd.concat([gov_central, autonomous_df, province_df], ignore_index=True)\n",
                "final_df.to_csv(\"gobiernos_españa_2013_2023.csv\", index=False)\n",
                "print(\"✅ Archivo CSV creado: 'gobiernos_españa_2013_2023.csv'\")"
            ]
        },
        {
            "cell_type": "markdown",
            "metadata": {},
            "source": [
                "Expansión de periodos a días. Para cada fila del DataFrame original, hemos generado filas nuevas, una para cada día dentro del rango de fechas del periodo, asignando el partido y demás datos iguales pero con una nueva columna Fecha con la fecha específica.\n",
                "\n",
                "Hemos creado un nuevo DataFrame df_daily con todas esas filas diarias.\n",
                "\n",
                "Se ha guardado el nuevo DataFrame a un CSV llamado \"gobiernos_españa_2013_2023_por_dia.csv\"."
            ]
        },
        {
            "cell_type": "code",
            "execution_count": 1,
            "metadata": {},
            "outputs": [
                {
                    "name": "stdout",
                    "output_type": "stream",
                    "text": [
                        "✅ CSV expandido por días creado: 'gobiernos_españa_2013_2023_por_dia.csv'\n"
                    ]
                }
            ],
            "source": [
                "import pandas as pd\n",
                "from datetime import datetime, timedelta\n",
                "\n",
                "# Leer el CSV que creaste\n",
                "df = pd.read_csv(\"gobiernos_españa_2013_2023.csv\")\n",
                "\n",
                "# Función para convertir tu columna 'Periodo' en fechas start/end\n",
                "def parse_period(period_str):\n",
                "    start_str, end_str = period_str.split('–')  # Nota: es guion largo U+2013\n",
                "    start_year = int(start_str)\n",
                "    end_year = int(end_str)\n",
                "    start_date = datetime(start_year, 1, 1)\n",
                "    end_date = datetime(end_year, 12, 31)\n",
                "    return start_date, end_date\n",
                "\n",
                "# Crear lista para filas expandidas\n",
                "expanded_rows = []\n",
                "\n",
                "for _, row in df.iterrows():\n",
                "    start_date, end_date = parse_period(row['Periodo'])\n",
                "    current_date = start_date\n",
                "    while current_date <= end_date:\n",
                "        new_row = row.to_dict()\n",
                "        new_row['Fecha'] = current_date.strftime('%Y-%m-%d')\n",
                "        expanded_rows.append(new_row)\n",
                "        current_date += timedelta(days=1)\n",
                "\n",
                "# Crear nuevo DataFrame con datos por día\n",
                "df_daily = pd.DataFrame(expanded_rows)\n",
                "\n",
                "# Puedes ahora guardar o trabajar con df_daily\n",
                "df_daily.to_csv(\"gobiernos_españa_2013_2023_por_dia.csv\", index=False)\n",
                "print(\"✅ CSV expandido por días creado: 'gobiernos_españa_2013_2023_por_dia.csv'\")"
            ]
        }
    ],
    "metadata": {
        "kernelspec": {
            "display_name": "Python 3",
            "language": "python",
            "name": "python3"
        },
        "language_info": {
            "codemirror_mode": {
                "name": "ipython",
                "version": 3
            },
            "file_extension": ".py",
            "mimetype": "text/x-python",
            "name": "python",
            "nbconvert_exporter": "python",
            "pygments_lexer": "ipython3",
            "version": "3.11.4"
        },
        "orig_nbformat": 4
    },
    "nbformat": 4,
    "nbformat_minor": 2
}
